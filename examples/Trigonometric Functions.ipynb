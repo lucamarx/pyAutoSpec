{
 "cells": [
  {
   "cell_type": "markdown",
   "id": "841de593",
   "metadata": {},
   "source": [
    "Learning Trigonometric Functions\n",
    "============================"
   ]
  },
  {
   "cell_type": "code",
   "execution_count": 1,
   "id": "1b6509dd",
   "metadata": {},
   "outputs": [],
   "source": [
    "import numpy as np\n",
    "import matplotlib.pyplot as plt\n",
    "from math import sin, cos, tan, pi\n",
    "\n",
    "from pyautospec import FunctionWfa"
   ]
  },
  {
   "cell_type": "markdown",
   "id": "4d350ae0",
   "metadata": {},
   "source": [
    "Sine function\n",
    "-------------------"
   ]
  },
  {
   "cell_type": "code",
   "execution_count": 2,
   "id": "c2731b9a",
   "metadata": {},
   "outputs": [
    {
     "data": {
      "application/vnd.jupyter.widget-view+json": {
       "model_id": "3dd946d789b64091af4b48dccfedec28",
       "version_major": 2,
       "version_minor": 0
      },
      "text/plain": [
       "  0%|          | 0/15 [00:00<?, ?it/s]"
      ]
     },
     "metadata": {},
     "output_type": "display_data"
    },
    {
     "name": "stderr",
     "output_type": "stream",
     "text": [
      "WARNING:absl:No GPU/TPU found, falling back to CPU. (Set TF_CPP_MIN_LOG_LEVEL=0 and rerun for more info.)\n"
     ]
    },
    {
     "data": {
      "text/plain": [
       "6"
      ]
     },
     "execution_count": 2,
     "metadata": {},
     "output_type": "execute_result"
    }
   ],
   "source": [
    "delta = 0.01\n",
    "\n",
    "# learn the sin function in the [0,2π] interval\n",
    "# we enlarge the interval a little bit to improve accuracy at the end-points\n",
    "sin_a = FunctionWfa(sin, x0=-delta, x1=(2*pi+delta))\n",
    "\n",
    "sin_a.learn(resolution=3)\n",
    "\n",
    "# the diagram is a bit messy ...\n",
    "# sin_a.model.diagram()\n",
    "\n",
    "# number of states of the learned automaton\n",
    "len(sin_a.model)"
   ]
  },
  {
   "cell_type": "code",
   "execution_count": 3,
   "id": "9f333cb3",
   "metadata": {},
   "outputs": [
    {
     "data": {
      "text/plain": [
       "<matplotlib.legend.Legend at 0x6adadc23abc0>"
      ]
     },
     "execution_count": 3,
     "metadata": {},
     "output_type": "execute_result"
    },
    {
     "data": {
      "image/png": "[encoded data removed]",
      "text/plain": [
       "<Figure size 432x288 with 1 Axes>"
      ]
     },
     "metadata": {
      "needs_background": "light"
     },
     "output_type": "display_data"
    }
   ],
   "source": [
    "x, f, r = sin_a.reconstruct(resolution=5)\n",
    "\n",
    "plt.plot(x, f, label=\"original\")\n",
    "plt.plot(x, r, label=\"reconstructed\")\n",
    "plt.legend()"
   ]
  },
  {
   "cell_type": "code",
   "execution_count": 4,
   "id": "1752dbc5",
   "metadata": {},
   "outputs": [
    {
     "data": {
      "text/plain": [
       "1.2871485703000902e-12"
      ]
     },
     "execution_count": 4,
     "metadata": {},
     "output_type": "execute_result"
    }
   ],
   "source": [
    "# reconstruction error\n",
    "np.average(np.square(np.array(r) - np.array(f)))"
   ]
  },
  {
   "cell_type": "markdown",
   "id": "55c49319",
   "metadata": {},
   "source": [
    "Tangent Function\n",
    "-------------------------"
   ]
  },
  {
   "cell_type": "code",
   "execution_count": 5,
   "id": "24e94019",
   "metadata": {},
   "outputs": [
    {
     "data": {
      "application/vnd.jupyter.widget-view+json": {
       "model_id": "8d0284bac48f4a6ca65f31ae00a07c5d",
       "version_major": 2,
       "version_minor": 0
      },
      "text/plain": [
       "  0%|          | 0/127 [00:00<?, ?it/s]"
      ]
     },
     "metadata": {},
     "output_type": "display_data"
    },
    {
     "data": {
      "text/plain": [
       "4"
      ]
     },
     "execution_count": 5,
     "metadata": {},
     "output_type": "execute_result"
    }
   ],
   "source": [
    "# learn the tan function in the [0,π/2] interval\n",
    "tan_a = FunctionWfa(tan, x0=0, x1=pi/2)\n",
    "\n",
    "# we need to use longer prefixes/suffixes because we have to get closer to the pole\n",
    "tan_a.learn(resolution=6)\n",
    "\n",
    "# the diagram is a bit messy ...\n",
    "# tan_a.model.diagram()\n",
    "\n",
    "# number of states of the learned automaton\n",
    "len(tan_a.model)"
   ]
  },
  {
   "cell_type": "code",
   "execution_count": 6,
   "id": "2e513b83",
   "metadata": {},
   "outputs": [
    {
     "data": {
      "text/plain": [
       "<matplotlib.legend.Legend at 0x6adadc23b580>"
      ]
     },
     "execution_count": 6,
     "metadata": {},
     "output_type": "execute_result"
    },
    {
     "data": {
      "image/png": "[encoded data removed]",
      "text/plain": [
       "<Figure size 432x288 with 1 Axes>"
      ]
     },
     "metadata": {
      "needs_background": "light"
     },
     "output_type": "display_data"
    }
   ],
   "source": [
    "x, f, r = tan_a.reconstruct(resolution=6)\n",
    "\n",
    "plt.plot(x, f, label=\"original\")\n",
    "plt.plot(x, r, label=\"reconstructed\")\n",
    "plt.legend()"
   ]
  },
  {
   "cell_type": "code",
   "execution_count": 7,
   "id": "22cc66e5",
   "metadata": {},
   "outputs": [
    {
     "data": {
      "text/plain": [
       "5.292861644434028e-05"
      ]
     },
     "execution_count": 7,
     "metadata": {},
     "output_type": "execute_result"
    }
   ],
   "source": [
    "# reconstruction error\n",
    "np.average(np.square(np.array(r) - np.array(f)))"
   ]
  },
  {
   "cell_type": "code",
   "execution_count": null,
   "id": "5354f5e2",
   "metadata": {},
   "outputs": [],
   "source": []
  }
 ],
 "metadata": {
  "kernelspec": {
   "display_name": "Python 3 (ipykernel)",
   "language": "python",
   "name": "python3"
  },
  "language_info": {
   "codemirror_mode": {
    "name": "ipython",
    "version": 3
   },
   "file_extension": ".py",
   "mimetype": "text/x-python",
   "name": "python",
   "nbconvert_exporter": "python",
   "pygments_lexer": "ipython3",
   "version": "3.10.3"
  }
 },
 "nbformat": 4,
 "nbformat_minor": 5
}
