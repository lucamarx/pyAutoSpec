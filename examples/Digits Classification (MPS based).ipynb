{
 "cells": [
  {
   "cell_type": "markdown",
   "id": "7f7ff824",
   "metadata": {},
   "source": [
    "Digits Classification\n",
    "=================\n",
    "\n",
    "Each record consists in an 8x8 grayscale bitmap of a digit.\n",
    "\n",
    "For more info see [here](https://archive.ics.uci.edu/ml/datasets/Optical+Recognition+of+Handwritten+Digits)"
   ]
  },
  {
   "cell_type": "code",
   "execution_count": 1,
   "id": "160dc250",
   "metadata": {},
   "outputs": [],
   "source": [
    "import numpy as np\n",
    "\n",
    "%matplotlib inline\n",
    "\n",
    "import matplotlib.pyplot as plt\n",
    "\n",
    "from sklearn.datasets import load_digits\n",
    "from sklearn.model_selection import train_test_split\n",
    "\n",
    "from pyautospec import DatasetMps"
   ]
  },
  {
   "cell_type": "code",
   "execution_count": 2,
   "id": "5ddc8e3e",
   "metadata": {},
   "outputs": [],
   "source": [
    "digits = load_digits()"
   ]
  },
  {
   "cell_type": "code",
   "execution_count": 3,
   "id": "1114bea3",
   "metadata": {},
   "outputs": [
    {
     "data": {
      "image/png": "[encoded data removed]",
      "text/plain": [
       "<Figure size 432x288 with 1 Axes>"
      ]
     },
     "metadata": {
      "needs_background": "light"
     },
     "output_type": "display_data"
    }
   ],
   "source": [
    "plt.figure()\n",
    "plt.imshow(digits.images[0], cmap='gray');"
   ]
  },
  {
   "cell_type": "code",
   "execution_count": 4,
   "id": "9f07d3f1",
   "metadata": {},
   "outputs": [],
   "source": [
    "X_train, X_test, y_train, y_test = train_test_split(digits.data, digits.target, test_size=0.3, random_state=1)"
   ]
  },
  {
   "cell_type": "code",
   "execution_count": 5,
   "id": "dd264a21",
   "metadata": {
    "scrolled": true
   },
   "outputs": [
    {
     "data": {
      "text/plain": [
       "  DatasetMps\n",
       "\n",
       "  ╭───┐ ╭───┐       ╭─┴─┐\n",
       "  │ 1 ├─┤ 2 ├─ ... ─┤ 64│\n",
       "  └─┬─┘ └─┬─┘       └─┬─┘\n",
       "\n",
       "  particle dim:   2\n",
       "     class dim:  10\n",
       "      bond dim:   2 (max: 50)\n",
       "          type: classification\n",
       "        "
      ]
     },
     "execution_count": 5,
     "metadata": {},
     "output_type": "execute_result"
    }
   ],
   "source": [
    "digits_mps = DatasetMps(64, x0=np.zeros((64,)), x1=16*np.ones((64,)), max_bond_d=50, class_n=10)\n",
    "\n",
    "digits_mps"
   ]
  },
  {
   "cell_type": "markdown",
   "id": "c6e5465b",
   "metadata": {},
   "source": [
    "lot of patience needed here ....."
   ]
  },
  {
   "cell_type": "code",
   "execution_count": 6,
   "id": "c9749ca2",
   "metadata": {},
   "outputs": [
    {
     "data": {
      "application/vnd.jupyter.widget-view+json": {
       "model_id": "5437aa5140c744b0bebc089217397265",
       "version_major": 2,
       "version_minor": 0
      },
      "text/plain": [
       "  0%|          | 0/5 [00:00<?, ?it/s]"
      ]
     },
     "metadata": {},
     "output_type": "display_data"
    },
    {
     "name": "stdout",
     "output_type": "stream",
     "text": [
      "epoch    1: 0.41\n",
      "epoch    2: 0.33\n",
      "epoch    3: 0.29\n",
      "epoch    4: 0.27\n",
      "epoch    5: 0.25\n"
     ]
    },
    {
     "data": {
      "text/plain": [
       "  DatasetMps\n",
       "\n",
       "  ╭───┐ ╭───┐       ╭─┴─┐\n",
       "  │ 1 ├─┤ 2 ├─ ... ─┤ 64│\n",
       "  └─┬─┘ └─┬─┘       └─┬─┘\n",
       "\n",
       "  particle dim:   2\n",
       "     class dim:  10\n",
       "      bond dim:  50 (max: 50)\n",
       "          type: classification\n",
       "        "
      ]
     },
     "execution_count": 6,
     "metadata": {},
     "output_type": "execute_result"
    }
   ],
   "source": [
    "digits_mps.fit(X_train, y_train, learn_rate=0.8, batch_size=400, epochs=5)"
   ]
  },
  {
   "cell_type": "code",
   "execution_count": 7,
   "id": "a44a2a87",
   "metadata": {},
   "outputs": [
    {
     "name": "stdout",
     "output_type": "stream",
     "text": [
      "accuracy (train): 93.9%\n",
      "accuracy (test):  93.5%\n"
     ]
    }
   ],
   "source": [
    "print(\"accuracy (train): {:.1f}%\".format(100 * digits_mps.score(X_train, y_train)))\n",
    "print(\"accuracy (test):  {:.1f}%\".format(100 * digits_mps.score(X_test, y_test)))"
   ]
  },
  {
   "cell_type": "markdown",
   "id": "02a86183",
   "metadata": {},
   "source": [
    "MIsclassified digits\n",
    "---------------------------"
   ]
  },
  {
   "cell_type": "code",
   "execution_count": 8,
   "id": "07f4b41b",
   "metadata": {},
   "outputs": [
    {
     "name": "stdout",
     "output_type": "stream",
     "text": [
      "35 misclassified\n"
     ]
    },
    {
     "data": {
      "image/png": "[encoded data removed]",
      "text/plain": [
       "<Figure size 432x288 with 20 Axes>"
      ]
     },
     "metadata": {
      "needs_background": "light"
     },
     "output_type": "display_data"
    }
   ],
   "source": [
    "y_pred = digits_mps.predict(X_test)\n",
    "\n",
    "mis_pred = np.where((y_pred - y_test) != 0)[0]\n",
    "\n",
    "fig, axis = plt.subplots(5, 4, constrained_layout = True)\n",
    "\n",
    "print(\"{} misclassified\".format(len(mis_pred)))\n",
    "\n",
    "for k in range(20):\n",
    "    x = k // 4\n",
    "    y = k - x*4 - 1\n",
    "    i = mis_pred[k]\n",
    "    axis[x, y].set_title(\"{} ({})\".format(y_pred[i], y_test[i]))\n",
    "    axis[x, y].xaxis.set_visible(False)\n",
    "    axis[x, y].yaxis.set_visible(False)\n",
    "    axis[x, y].imshow(X_test[i,:].reshape((8,8)), cmap='gray')"
   ]
  },
  {
   "cell_type": "code",
   "execution_count": null,
   "id": "c1050d64",
   "metadata": {},
   "outputs": [],
   "source": []
  }
 ],
 "metadata": {
  "kernelspec": {
   "display_name": "Python 3 (ipykernel)",
   "language": "python",
   "name": "python3"
  },
  "language_info": {
   "codemirror_mode": {
    "name": "ipython",
    "version": 3
   },
   "file_extension": ".py",
   "mimetype": "text/x-python",
   "name": "python",
   "nbconvert_exporter": "python",
   "pygments_lexer": "ipython3",
   "version": "3.10.10"
  }
 },
 "nbformat": 4,
 "nbformat_minor": 5
}
